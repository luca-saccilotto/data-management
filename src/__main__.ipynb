{
 "cells": [
  {
   "cell_type": "markdown",
   "metadata": {},
   "source": [
    "## **Modules**"
   ]
  },
  {
   "cell_type": "code",
   "execution_count": null,
   "metadata": {},
   "outputs": [],
   "source": [
    "# Import classes from source files\n",
    "from utils1_extract import DataExtractor\n",
    "from utils2_transform import DataProcessor\n",
    "from utils3_load import DatabaseConnector"
   ]
  },
  {
   "cell_type": "code",
   "execution_count": null,
   "metadata": {},
   "outputs": [],
   "source": [
    "# Create an instance for each class\n",
    "extractor = DataExtractor()\n",
    "processor = DataProcessor()\n",
    "connector = DatabaseConnector()"
   ]
  },
  {
   "cell_type": "markdown",
   "metadata": {},
   "source": [
    "## **Settings**"
   ]
  },
  {
   "cell_type": "code",
   "execution_count": null,
   "metadata": {},
   "outputs": [],
   "source": [
    "# Read database credentials as dictionary\n",
    "aws_creds = connector.read_creds(\"aws_creds.yaml\")\n",
    "local_creds = connector.read_creds(\"local_creds.yaml\")"
   ]
  },
  {
   "cell_type": "code",
   "execution_count": null,
   "metadata": {},
   "outputs": [],
   "source": [
    "# Connect to the database engine using the credentials\n",
    "engine = connector.init_engine(aws_creds)"
   ]
  },
  {
   "cell_type": "code",
   "execution_count": null,
   "metadata": {},
   "outputs": [],
   "source": [
    "# Retrieve the name of the tables in the database\n",
    "tables_list = connector.list_tables(engine)"
   ]
  },
  {
   "cell_type": "markdown",
   "metadata": {},
   "source": [
    "## **Processing**"
   ]
  },
  {
   "cell_type": "markdown",
   "metadata": {},
   "source": [
    "### **Users**"
   ]
  },
  {
   "cell_type": "code",
   "execution_count": null,
   "metadata": {},
   "outputs": [],
   "source": [
    "# Extract and read user data from the database\n",
    "user_details = extractor.read_table(engine, \"legacy_users\")"
   ]
  },
  {
   "cell_type": "code",
   "execution_count": null,
   "metadata": {},
   "outputs": [],
   "source": [
    "# Perform the cleaning of user data\n",
    "user_data = processor.clean_users(user_details)"
   ]
  },
  {
   "cell_type": "code",
   "execution_count": null,
   "metadata": {},
   "outputs": [],
   "source": [
    "# Use the method to upload user data in the database\n",
    "connector.upload_db(local_creds, user_data, \"users_table\")"
   ]
  },
  {
   "cell_type": "markdown",
   "metadata": {},
   "source": [
    "### **Payments**"
   ]
  },
  {
   "cell_type": "code",
   "execution_count": null,
   "metadata": {},
   "outputs": [],
   "source": [
    "# Extract and read card details from a PDF document\n",
    "card_details = extractor.retrieve_pdf(\n",
    "    link = \"https://data-handling-public.s3.eu-west-1.amazonaws.com/card_details.pdf\")"
   ]
  },
  {
   "cell_type": "code",
   "execution_count": null,
   "metadata": {},
   "outputs": [],
   "source": [
    "# Perform the cleaning of card data\n",
    "card_data = processor.clean_cards(card_details)"
   ]
  },
  {
   "cell_type": "code",
   "execution_count": null,
   "metadata": {},
   "outputs": [],
   "source": [
    "# Use the method to upload card details in the database\n",
    "connector.upload_db(local_creds, card_data, \"cards_table\")"
   ]
  },
  {
   "cell_type": "markdown",
   "metadata": {},
   "source": [
    "### **Stores**"
   ]
  },
  {
   "cell_type": "code",
   "execution_count": null,
   "metadata": {},
   "outputs": [],
   "source": [
    "# Extract the number of stores and information from the API\n",
    "url_1 = \"https://aqj7u5id95.execute-api.eu-west-1.amazonaws.com/prod/number_stores\"\n",
    "url_2 = \"https://aqj7u5id95.execute-api.eu-west-1.amazonaws.com/prod/store_details\"\n",
    "headers = {\"x-api-key\": \"yFBQbwXe9J3sd6zWVAMrK6lcxxr0q1lr2PT6DDMX\"}\n",
    "\n",
    "number_of_stores = extractor.list_stores(url_1, headers)\n",
    "store_details = extractor.retrieve_stores(number_of_stores, url_2, headers)"
   ]
  },
  {
   "cell_type": "code",
   "execution_count": null,
   "metadata": {},
   "outputs": [],
   "source": [
    "# Perform the cleaning of store data\n",
    "store_data = processor.clean_stores(store_details)"
   ]
  },
  {
   "cell_type": "code",
   "execution_count": null,
   "metadata": {},
   "outputs": [],
   "source": [
    "# Use the method to upload store details in the database\n",
    "connector.upload_db(local_creds, store_data, \"stores_table\")"
   ]
  },
  {
   "cell_type": "markdown",
   "metadata": {},
   "source": [
    "### **Products**"
   ]
  },
  {
   "cell_type": "code",
   "execution_count": null,
   "metadata": {},
   "outputs": [],
   "source": [
    "# Extract product information stored in an S3 bucket on AWS\n",
    "product_details = extractor.extract_s3(\n",
    "    bucket_name = \"data-handling-public\",\n",
    "    object_name = \"products.csv\",\n",
    "    file_name = \"products.csv\")"
   ]
  },
  {
   "cell_type": "code",
   "execution_count": null,
   "metadata": {},
   "outputs": [],
   "source": [
    "# Convert product weight to decimal value\n",
    "product_details = processor.convert_weights(product_details)"
   ]
  },
  {
   "cell_type": "code",
   "execution_count": null,
   "metadata": {},
   "outputs": [],
   "source": [
    "# Perform the cleaning of product data\n",
    "product_data = processor.clean_products(product_details)"
   ]
  },
  {
   "cell_type": "code",
   "execution_count": null,
   "metadata": {},
   "outputs": [],
   "source": [
    "# Use the method to upload store details in the database\n",
    "connector.upload_db(local_creds, product_data, \"products_table\")"
   ]
  },
  {
   "cell_type": "markdown",
   "metadata": {},
   "source": [
    "### **Orders**"
   ]
  },
  {
   "cell_type": "code",
   "execution_count": null,
   "metadata": {},
   "outputs": [],
   "source": [
    "# Extract and read orders data from the database\n",
    "orders_details = extractor.read_table(engine, \"orders_table\")"
   ]
  },
  {
   "cell_type": "code",
   "execution_count": null,
   "metadata": {},
   "outputs": [],
   "source": [
    "# Perform the cleaning of orders data\n",
    "orders_data = processor.clean_orders(orders_details)"
   ]
  },
  {
   "cell_type": "code",
   "execution_count": null,
   "metadata": {},
   "outputs": [],
   "source": [
    "# Use the method to upload orders data in the database\n",
    "connector.upload_db(local_creds, orders_data, \"orders_table\")"
   ]
  },
  {
   "cell_type": "markdown",
   "metadata": {},
   "source": [
    "### **Events**"
   ]
  },
  {
   "cell_type": "code",
   "execution_count": null,
   "metadata": {},
   "outputs": [],
   "source": [
    "# Extract events data stored in an S3 bucket on AWS\n",
    "date_events = extractor.extract_events(\n",
    "    bucket_name = \"data-handling-public\",\n",
    "    object_name = \"date_details.json\",\n",
    "    file_name = \"date_details.json\")"
   ]
  },
  {
   "cell_type": "code",
   "execution_count": null,
   "metadata": {},
   "outputs": [],
   "source": [
    "# Perform the cleaning of product data\n",
    "events_data = processor.clean_events(date_events)"
   ]
  },
  {
   "cell_type": "code",
   "execution_count": null,
   "metadata": {},
   "outputs": [],
   "source": [
    "# Use the method to upload store details in the database\n",
    "connector.upload_db(local_creds, events_data, \"events_table\")"
   ]
  }
 ],
 "metadata": {
  "language_info": {
   "name": "python"
  },
  "orig_nbformat": 4
 },
 "nbformat": 4,
 "nbformat_minor": 2
}
